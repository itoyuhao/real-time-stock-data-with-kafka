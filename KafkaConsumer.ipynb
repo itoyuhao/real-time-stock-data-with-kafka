{
 "cells": [
  {
   "attachments": {},
   "cell_type": "markdown",
   "id": "6a117517",
   "metadata": {},
   "source": [
    "#### Kafka Consumer"
   ]
  },
  {
   "attachments": {},
   "cell_type": "markdown",
   "id": "94cb8d2a",
   "metadata": {},
   "source": [
    "##### This notebook simulates a data consumer, consuming new data from the broker(server)"
   ]
  },
  {
   "cell_type": "code",
   "execution_count": 1,
   "id": "b6675043",
   "metadata": {},
   "outputs": [],
   "source": [
    "from kafka import KafkaConsumer\n",
    "import json\n",
    "from s3fs import S3FileSystem"
   ]
  },
  {
   "cell_type": "code",
   "execution_count": 2,
   "id": "9eeff3ef",
   "metadata": {},
   "outputs": [],
   "source": [
    "# creating consumer\n",
    "consumer = KafkaConsumer('demo_test',\n",
    "                        bootstrap_servers=['{public ip of EC2 built on aws}:9092'], #add your IP here\n",
    "                        value_deserializer=lambda x: json.loads(x.decode('utf-8')))"
   ]
  },
  {
   "cell_type": "code",
   "execution_count": 3,
   "id": "89a12a13",
   "metadata": {},
   "outputs": [],
   "source": [
    "# for c in consumer:\n",
    "#     print(c.value)"
   ]
  },
  {
   "cell_type": "code",
   "execution_count": 4,
   "id": "8d60dc6c",
   "metadata": {},
   "outputs": [],
   "source": [
    "# creating a s3fs instance\n",
    "s3 = S3FileSystem()"
   ]
  },
  {
   "cell_type": "code",
   "execution_count": null,
   "id": "0f135e81",
   "metadata": {},
   "outputs": [],
   "source": [
    "# catching and consuming data from kafka broker and sending them to the s3 bucketing on aws\n",
    "for count, i in enumerate(consumer):\n",
    "    with s3.open(\"s3://kafka-stock-market-data-engineering-project-storage/stock_market_{}.json\".format(count), 'w') as file:\n",
    "        json.dump(i.value, file)"
   ]
  },
  {
   "cell_type": "code",
   "execution_count": null,
   "id": "7b811cb6",
   "metadata": {},
   "outputs": [],
   "source": []
  }
 ],
 "metadata": {
  "kernelspec": {
   "display_name": "Python 3 (ipykernel)",
   "language": "python",
   "name": "python3"
  },
  "language_info": {
   "codemirror_mode": {
    "name": "ipython",
    "version": 3
   },
   "file_extension": ".py",
   "mimetype": "text/x-python",
   "name": "python",
   "nbconvert_exporter": "python",
   "pygments_lexer": "ipython3",
   "version": "3.8.5"
  }
 },
 "nbformat": 4,
 "nbformat_minor": 5
}
